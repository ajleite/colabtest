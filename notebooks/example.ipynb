{
  "nbformat": 4,
  "nbformat_minor": 0,
  "metadata": {
    "colab": {
      "name": "test.ipynb",
      "provenance": [],
      "authorship_tag": "ABX9TyPLC0k3nUqoQncIT4+hNL2/",
      "include_colab_link": true
    },
    "kernelspec": {
      "name": "python3",
      "display_name": "Python 3"
    }
  },
  "cells": [
    {
      "cell_type": "markdown",
      "metadata": {
        "id": "view-in-github",
        "colab_type": "text"
      },
      "source": [
        "<a href=\"https://colab.research.google.com/github/ajleite/colabtest/blob/master/notebooks/example.ipynb\" target=\"_parent\"><img src=\"https://colab.research.google.com/assets/colab-badge.svg\" alt=\"Open In Colab\"/></a>"
      ]
    },
    {
      "cell_type": "code",
      "metadata": {
        "id": "-hQVjQI8t-Gg",
        "outputId": "1d977e9b-4988-4550-9aa3-659c4bd8a631",
        "colab": {
          "base_uri": "https://localhost:8080/",
          "height": 34
        }
      },
      "source": [
        "# This code can be used to add a folder in the repository to the Python import\n",
        "# path, irrespective of whether the notebook is being run in colab or Jupyter.\n",
        "# (C) 2020 Abe Leite, Indiana University Bloomington\n",
        "# This code block is released under MIT license. Feel free to make use of\n",
        "# this code in any projects so long as you reproduce this text.\n",
        "\n",
        "import os\n",
        "import sys\n",
        "import subprocess\n",
        "\n",
        "repo_URL = 'https://github.com/ajleite/colabtest'\n",
        "repo_name = repo_URL.split('/')[-1]\n",
        "code_folder = ''\n",
        "\n",
        "try:\n",
        "  repo_path = subprocess.check_output('git rev-parse --show-toplevel', shell=True).decode().strip()\n",
        "except subprocess.CalledProcessError:\n",
        "  os.system(f'git clone {repo_URL} --depth 1')\n",
        "  repo_path = os.path.abspath(repo_name)\n",
        "\n",
        "code_path = os.path.join(repo_path, code_folder)\n",
        "sys.path.append(code_path)\n",
        "print(f'Loading code from {code_path}')"
      ],
      "execution_count": 1,
      "outputs": [
        {
          "output_type": "stream",
          "text": [
            "Loading code from /content/colabtest/\n"
          ],
          "name": "stdout"
        }
      ]
    },
    {
      "cell_type": "code",
      "metadata": {
        "id": "Gj-yjprlzPxF",
        "outputId": "eb08d687-320f-4085-f3de-1019819b890e",
        "colab": {
          "base_uri": "https://localhost:8080/",
          "height": 34
        }
      },
      "source": [
        "import model\n",
        "\n",
        "m = model.Model()\n",
        "print(m.output())"
      ],
      "execution_count": 2,
      "outputs": [
        {
          "output_type": "stream",
          "text": [
            "I am a <class 'model.Model'>! I am stored in memory as <model.Model object at 0x7f7d9fe105c0>.\n"
          ],
          "name": "stdout"
        }
      ]
    }
  ]
}
